{
 "cells": [
  {
   "cell_type": "code",
   "execution_count": 1,
   "metadata": {
    "collapsed": false
   },
   "outputs": [],
   "source": [
    "import tensorflow as tf\n",
    "import numpy as np\n",
    "%matplotlib inline\n",
    "from tensorflow.models.rnn.ptb import reader\n",
    "import time\n",
    "import os\n",
    "import urllib.request"
   ]
  },
  {
   "cell_type": "code",
   "execution_count": 2,
   "metadata": {
    "collapsed": true
   },
   "outputs": [],
   "source": [
    "%load_ext autoreload\n",
    "%autoreload 2"
   ]
  },
  {
   "cell_type": "code",
   "execution_count": 3,
   "metadata": {
    "collapsed": false
   },
   "outputs": [],
   "source": [
    "\"download dataset\"\n",
    "file_url = 'https://raw.githubusercontent.com/jcjohnson/torch-rnn/master/data/tiny-shakespeare.txt'\n",
    "file_name = 'tinyshakespeare.txt'\n",
    "if not os.path.isfile(file_name):\n",
    "    urllib.request.urlretrieve(file_url, file_name)"
   ]
  },
  {
   "cell_type": "code",
   "execution_count": 4,
   "metadata": {
    "collapsed": false
   },
   "outputs": [
    {
     "name": "stdout",
     "output_type": "stream",
     "text": [
      "the size of the data is 1115394\n"
     ]
    }
   ],
   "source": [
    "data = open(file_name).read() # This contains all the file in a string in memory\n",
    "print(\"the size of the data is {}\".format(len(data)))\n",
    "vocab = set(data) # upper-case and lower-case characters are different\n",
    "vocab_size = len(vocab)\n",
    "idx_to_vocab = dict(enumerate(vocab))\n",
    "vocab_to_idx = dict(zip(idx_to_vocab.values(), idx_to_vocab.keys()))"
   ]
  },
  {
   "cell_type": "code",
   "execution_count": 5,
   "metadata": {
    "collapsed": true
   },
   "outputs": [],
   "source": [
    "numeric_data = list(map(lambda x: vocab_to_idx[x], data))\n",
    "del data"
   ]
  },
  {
   "cell_type": "code",
   "execution_count": 6,
   "metadata": {
    "collapsed": true
   },
   "outputs": [],
   "source": [
    "def gen_epochs(num_epochs, batch_size, num_steps):\n",
    "    for _ in range(num_epochs):\n",
    "        yield reader.ptb_iterator(numeric_data, batch_size, num_steps)"
   ]
  },
  {
   "cell_type": "code",
   "execution_count": 7,
   "metadata": {
    "collapsed": false
   },
   "outputs": [],
   "source": [
    "# Using the previously written code to build a language model\n",
    "from basic_rnn_using_tensorflow_api import BasicRNN\n",
    "from basic_lstm_using_tensorflow_api import BasicLSTM\n",
    "from basic_lstm_using_dynamicRNN import DynamicLSTM\n",
    "from basic_lstm_using_tfScan import DynamicScannedLSTM"
   ]
  },
  {
   "cell_type": "code",
   "execution_count": 49,
   "metadata": {
    "collapsed": false
   },
   "outputs": [],
   "source": [
    "state_size = 100\n",
    "batch_size = 32\n",
    "num_steps = 200\n",
    "num_classes = vocab_size\n",
    "inlayer_dropout = 0.6\n",
    "learning_rate = 0.0001"
   ]
  },
  {
   "cell_type": "markdown",
   "metadata": {},
   "source": [
    "### Basic RNN with one layer"
   ]
  },
  {
   "cell_type": "code",
   "execution_count": 50,
   "metadata": {
    "collapsed": false
   },
   "outputs": [
    {
     "name": "stdout",
     "output_type": "stream",
     "text": [
      "The time took to build the basic RNN model from list is  28.253008604049683\n"
     ]
    }
   ],
   "source": [
    "tf.reset_default_graph()\n",
    "tic = time.time()\n",
    "language_model = BasicRNN(state_size=state_size, num_steps=num_steps, batch_size=batch_size,\n",
    "                          num_classes=num_classes, num_layers=1, inlayer_dropout=inlayer_dropout,\n",
    "                          learning_rate=learning_rate)\n",
    "toc = time.time()\n",
    "print(\"The time took to build the basic RNN model from list is \", toc - tic)"
   ]
  },
  {
   "cell_type": "code",
   "execution_count": 51,
   "metadata": {
    "collapsed": false
   },
   "outputs": [
    {
     "name": "stdout",
     "output_type": "stream",
     "text": [
      "loss after 0 epoch is 3.80\n",
      "loss after 1 epoch is 3.37\n",
      "loss after 2 epoch is 3.24\n",
      "time taken to finish this simulatin is 0.86 minutes\n"
     ]
    }
   ],
   "source": [
    "tic = time.time()\n",
    "for n_epoch, epoch in enumerate(gen_epochs(3, batch_size, num_steps)):\n",
    "    loss, step = 0, 0\n",
    "    for batch in epoch:\n",
    "        loss += language_model.update_params(batch)\n",
    "        step += 1\n",
    "    print(\"loss after {0} epoch is {1:0.2f}\".format(n_epoch, loss / step))\n",
    "toc = time.time()\n",
    "print(\"time taken to finish this simulatin is {0:0.2f} minutes\".format((toc - tic) / 60))"
   ]
  },
  {
   "cell_type": "markdown",
   "metadata": {},
   "source": [
    "### Basic RNN with 3-layers"
   ]
  },
  {
   "cell_type": "code",
   "execution_count": 28,
   "metadata": {
    "collapsed": false
   },
   "outputs": [
    {
     "name": "stdout",
     "output_type": "stream",
     "text": [
      "The time took to build the basic RNN model with 3 layers from list is  41.43037939071655\n"
     ]
    }
   ],
   "source": [
    "tf.reset_default_graph()\n",
    "tic = time.time()\n",
    "language_model_3_layer_rnn = BasicRNN(state_size=state_size, num_steps=num_steps, num_layers=3, \n",
    "                                      batch_size=batch_size, inlayer_dropout=inlayer_dropout,\n",
    "                                      num_classes=num_classes, learning_rate=learning_rate)\n",
    "toc = time.time()\n",
    "print(\"The time took to build the basic RNN model with 3 layers from list is \", toc - tic)"
   ]
  },
  {
   "cell_type": "code",
   "execution_count": 29,
   "metadata": {
    "collapsed": false
   },
   "outputs": [
    {
     "name": "stdout",
     "output_type": "stream",
     "text": [
      "loss after 0 epoch is 3.52\n",
      "loss after 1 epoch is 3.20\n",
      "loss after 2 epoch is 2.93\n",
      "time taken to finish this simulatin is 1.17\n"
     ]
    }
   ],
   "source": [
    "tic = time.time()\n",
    "for n_epoch, epoch in enumerate(gen_epochs(3, batch_size, num_steps)):\n",
    "    loss, step = 0, 0\n",
    "    for batch in epoch:\n",
    "        loss += language_model_3_layer_rnn.update_params(batch)\n",
    "        step += 1\n",
    "    print(\"loss after {0} epoch is {1:0.2f}\".format(n_epoch, loss / step))\n",
    "toc = time.time()\n",
    "print(\"time taken to finish this simulatin is {0:0.2f}\".format((toc - tic) / 60))"
   ]
  },
  {
   "cell_type": "markdown",
   "metadata": {},
   "source": [
    "### Basic LSTM with 3 layers using tf.rnn api "
   ]
  },
  {
   "cell_type": "code",
   "execution_count": 53,
   "metadata": {
    "collapsed": false
   },
   "outputs": [
    {
     "name": "stdout",
     "output_type": "stream",
     "text": [
      "The time took to build the basic LSTM model with 3 layers from list is  152.77650666236877\n"
     ]
    }
   ],
   "source": [
    "tf.reset_default_graph()\n",
    "tic = time.time()\n",
    "language_model_3_layer_lstm = BasicLSTM(state_size=state_size, num_steps=num_steps, \n",
    "                                        num_layers=3, batch_size=batch_size, inlayer_dropout=inlayer_dropout,\n",
    "                                        num_classes=num_classes, learning_rate=learning_rate)\n",
    "toc = time.time()\n",
    "print(\"The time took to build the basic LSTM model with 3 layers from list is \", toc - tic)"
   ]
  },
  {
   "cell_type": "code",
   "execution_count": 31,
   "metadata": {
    "collapsed": false
   },
   "outputs": [
    {
     "name": "stdout",
     "output_type": "stream",
     "text": [
      "loss after 0 epoch is 3.62\n",
      "loss after 1 epoch is 3.35\n",
      "loss after 2 epoch is 3.34\n",
      "time taken to finish this simulatin is 4.62\n"
     ]
    }
   ],
   "source": [
    "tic = time.time()\n",
    "for n_epoch, epoch in enumerate(gen_epochs(3, batch_size, num_steps)):\n",
    "    loss, step = 0, 0\n",
    "    for batch in epoch:\n",
    "        loss += language_model_3_layer_lstm.update_params(batch)\n",
    "        step += 1\n",
    "    print(\"loss after {0} epoch is {1:0.2f}\".format(n_epoch, loss / step))\n",
    "toc = time.time()\n",
    "print(\"time taken to finish this simulatin is {0:0.2f}\".format((toc - tic) / 60))"
   ]
  },
  {
   "cell_type": "markdown",
   "metadata": {},
   "source": [
    "It is taking lot of time to just build the model. This is not a problem during training time because we have to build the model only once. But it could be a problem during test time where we may have to build the model multiple times. We can use a `Tensorflow` api `DynamicRNN` that can delay the creation of the graph to the run time. "
   ]
  },
  {
   "cell_type": "markdown",
   "metadata": {},
   "source": [
    "### Basic LSTM using tf.dynamic_rnn api"
   ]
  },
  {
   "cell_type": "code",
   "execution_count": 32,
   "metadata": {
    "collapsed": false
   },
   "outputs": [
    {
     "name": "stdout",
     "output_type": "stream",
     "text": [
      "The time took to build the dynamic LSTM model with 3 layers from list is  1.6617040634155273\n"
     ]
    }
   ],
   "source": [
    "tf.reset_default_graph()\n",
    "tic = time.time()\n",
    "language_model_dynamic_lstm = DynamicLSTM(state_size=state_size, num_steps=num_steps, num_layers=3, \n",
    "                                         batch_size=batch_size, num_classes=num_classes, \n",
    "                                         learning_rate=learning_rate)\n",
    "toc = time.time()\n",
    "print(\"The time took to build the dynamic LSTM model with 3 layers from list is \", toc - tic)"
   ]
  },
  {
   "cell_type": "code",
   "execution_count": 33,
   "metadata": {
    "collapsed": false
   },
   "outputs": [
    {
     "name": "stdout",
     "output_type": "stream",
     "text": [
      "loss after 0 epoch is 3.60\n",
      "loss after 1 epoch is 3.35\n",
      "loss after 2 epoch is 3.34\n",
      "time taken to finish this simulatin is 4.63\n"
     ]
    }
   ],
   "source": [
    "tic = time.time()\n",
    "for n_epoch, epoch in enumerate(gen_epochs(3, batch_size, num_steps)):\n",
    "    loss, step = 0, 0\n",
    "    for batch in epoch:\n",
    "        loss += language_model_dynamic_lstm.update_params(batch)\n",
    "        step += 1\n",
    "    print(\"loss after {0} epoch is {1:0.2f}\".format(n_epoch, loss / step))\n",
    "toc = time.time()\n",
    "print(\"time taken to finish this simulatin is {0:0.2f}\".format((toc - tic) / 60))"
   ]
  },
  {
   "cell_type": "markdown",
   "metadata": {},
   "source": [
    "### Basic LSTM using tf.scan api"
   ]
  },
  {
   "cell_type": "code",
   "execution_count": 54,
   "metadata": {
    "collapsed": false
   },
   "outputs": [
    {
     "name": "stdout",
     "output_type": "stream",
     "text": [
      "The time took to build the dynamic LSTM model with 3 layers from list is  1.947620153427124\n"
     ]
    }
   ],
   "source": [
    "tf.reset_default_graph()\n",
    "tic = time.time()\n",
    "language_model_scanned_lstm = DynamicScannedLSTM(state_size=state_size, num_steps=num_steps, num_layers=3, \n",
    "                                                 batch_size=batch_size, num_classes=num_classes, \n",
    "                                                 inlayer_dropout=inlayer_dropout\n",
    "                                                 learning_rate=learning_rate)\n",
    "toc = time.time()\n",
    "print(\"The time took to build the dynamic LSTM model with 3 layers from list is \", toc - tic)"
   ]
  },
  {
   "cell_type": "code",
   "execution_count": 35,
   "metadata": {
    "collapsed": false
   },
   "outputs": [
    {
     "name": "stdout",
     "output_type": "stream",
     "text": [
      "loss after 0 epoch is 3.60\n",
      "loss after 1 epoch is 3.35\n",
      "loss after 2 epoch is 3.33\n",
      "time taken to finish this simulatin is 4.73\n"
     ]
    }
   ],
   "source": [
    "tic = time.time()\n",
    "for n_epoch, epoch in enumerate(gen_epochs(3, batch_size, num_steps)):\n",
    "    loss, step = 0, 0\n",
    "    for batch in epoch:\n",
    "        loss += language_model_scanned_lstm.update_params(batch)\n",
    "        step += 1\n",
    "    print(\"loss after {0} epoch is {1:0.2f}\".format(n_epoch, loss / step))\n",
    "toc = time.time()\n",
    "print(\"time taken to finish this simulatin is {0:0.2f}\".format((toc - tic) / 60))"
   ]
  },
  {
   "cell_type": "code",
   "execution_count": 41,
   "metadata": {
    "collapsed": true
   },
   "outputs": [],
   "source": [
    "sess.close()\n",
    "sess = tf.InteractiveSession()"
   ]
  },
  {
   "cell_type": "code",
   "execution_count": 47,
   "metadata": {
    "collapsed": true
   },
   "outputs": [],
   "source": [
    "tf.nn.rnn_cell.DropoutWrapper?"
   ]
  },
  {
   "cell_type": "code",
   "execution_count": 46,
   "metadata": {
    "collapsed": false
   },
   "outputs": [
    {
     "data": {
      "text/plain": [
       "array([[ 0.,  0.,  0.,  0.],\n",
       "       [ 4.,  0.,  0.,  4.]], dtype=float32)"
      ]
     },
     "execution_count": 46,
     "metadata": {},
     "output_type": "execute_result"
    }
   ],
   "source": [
    "sess.run(tf.nn.dropout([[1, 1, 1, 1.], [2, 2, 2, 2]], 0.5))"
   ]
  },
  {
   "cell_type": "markdown",
   "metadata": {},
   "source": [
    "** a small experiment **"
   ]
  },
  {
   "cell_type": "code",
   "execution_count": null,
   "metadata": {
    "collapsed": true
   },
   "outputs": [],
   "source": [
    "batch_size = 4 \n",
    "state_size = 3\n",
    "vocab_size = 5\n",
    "num_steps = 2"
   ]
  },
  {
   "cell_type": "code",
   "execution_count": null,
   "metadata": {
    "collapsed": false
   },
   "outputs": [],
   "source": [
    "if sess: sess.close()\n",
    "tf.reset_default_graph()\n",
    "x = tf.placeholder(tf.int32, shape=(batch_size, num_steps), name=\"x\")\n",
    "y = tf.placeholder(tf.int32, shape=(batch_size, num_steps), name=\"y\")\n",
    "\n",
    "\n",
    "# word embeddings\n",
    "W_embeddings = tf.get_variable(\"embeddings\", shape=(vocab_size, state_size), \n",
    "                               initializer=tf.constant_initializer(1.0))\n",
    "#rnn_inputs\n",
    "rnn_inputs = tf.nn.embedding_lookup(W_embeddings, x)\n",
    "\n",
    "#LSTM cell\n",
    "lstm_cell = tf.nn.rnn_cell.LSTMCell(state_size, state_is_tuple=True)\n",
    "lstm_cell = tf.nn.rnn_cell.MultiRNNCell([lstm_cell] * 3, state_is_tuple=True)\n",
    "init_state = lstm_cell.zero_state(batch_size, tf.float32)\n",
    "\n",
    "#LSTM layer\n",
    "outputs, final_states = tf.nn.dynamic_rnn(lstm_cell, rnn_inputs, initial_state=init_state)"
   ]
  },
  {
   "cell_type": "code",
   "execution_count": null,
   "metadata": {
    "collapsed": true
   },
   "outputs": [],
   "source": [
    "x_ = [[1, 1], [2, 2], [3, 3], [4, 4]]\n",
    "y_ = [[1, 1], [2, 2], [3, 3], [4, 4]]"
   ]
  },
  {
   "cell_type": "code",
   "execution_count": null,
   "metadata": {
    "collapsed": true
   },
   "outputs": [],
   "source": [
    "feed = {x: x_, y: y_}"
   ]
  },
  {
   "cell_type": "code",
   "execution_count": null,
   "metadata": {
    "collapsed": true
   },
   "outputs": [],
   "source": [
    "rnn_inputs_transposed = tf.transpose(rnn_inputs, [1, 0, 2])"
   ]
  },
  {
   "cell_type": "code",
   "execution_count": null,
   "metadata": {
    "collapsed": false
   },
   "outputs": [],
   "source": [
    "scanned_lstm = tf.scan(lambda a, x: lstm_cell(x, a[1]), rnn_inputs_transposed, \n",
    "                       initializer=(tf.zeros((batch_size, state_size)), init_state))"
   ]
  },
  {
   "cell_type": "code",
   "execution_count": null,
   "metadata": {
    "collapsed": true
   },
   "outputs": [],
   "source": [
    "sess = tf.InteractiveSession()"
   ]
  },
  {
   "cell_type": "code",
   "execution_count": null,
   "metadata": {
    "collapsed": false
   },
   "outputs": [],
   "source": [
    "sess.run(tf.initialize_all_variables())"
   ]
  },
  {
   "cell_type": "code",
   "execution_count": null,
   "metadata": {
    "collapsed": false
   },
   "outputs": [],
   "source": [
    "t = scanned_lstm[0].eval(feed)"
   ]
  },
  {
   "cell_type": "code",
   "execution_count": null,
   "metadata": {
    "collapsed": false
   },
   "outputs": [],
   "source": [
    "o = outputs.eval(feed)"
   ]
  },
  {
   "cell_type": "code",
   "execution_count": null,
   "metadata": {
    "collapsed": false
   },
   "outputs": [],
   "source": [
    "rnn_inputs_transposed.eval(feed)"
   ]
  },
  {
   "cell_type": "code",
   "execution_count": null,
   "metadata": {
    "collapsed": false
   },
   "outputs": [],
   "source": [
    "final_states[0][-1].eval(feed)"
   ]
  },
  {
   "cell_type": "code",
   "execution_count": null,
   "metadata": {
    "collapsed": false
   },
   "outputs": [],
   "source": [
    "scanned_lstm[1][-1][0].eval(feed)"
   ]
  },
  {
   "cell_type": "code",
   "execution_count": null,
   "metadata": {
    "collapsed": false
   },
   "outputs": [],
   "source": [
    "tf.slice?"
   ]
  },
  {
   "cell_type": "code",
   "execution_count": null,
   "metadata": {
    "collapsed": false
   },
   "outputs": [],
   "source": [
    "f = scanned_lstm[1]"
   ]
  },
  {
   "cell_type": "code",
   "execution_count": null,
   "metadata": {
    "collapsed": false
   },
   "outputs": [],
   "source": [
    "tf.unpack(f[0])"
   ]
  },
  {
   "cell_type": "code",
   "execution_count": null,
   "metadata": {
    "collapsed": false
   },
   "outputs": [],
   "source": [
    "scanned_lstm[1][0][0][num_steps - 1]"
   ]
  },
  {
   "cell_type": "code",
   "execution_count": null,
   "metadata": {
    "collapsed": false
   },
   "outputs": [],
   "source": [
    "o"
   ]
  },
  {
   "cell_type": "code",
   "execution_count": null,
   "metadata": {
    "collapsed": false
   },
   "outputs": [],
   "source": [
    "init_state"
   ]
  },
  {
   "cell_type": "code",
   "execution_count": null,
   "metadata": {
    "collapsed": true
   },
   "outputs": [],
   "source": []
  }
 ],
 "metadata": {
  "kernelspec": {
   "display_name": "Python 3",
   "language": "python",
   "name": "python3"
  },
  "language_info": {
   "codemirror_mode": {
    "name": "ipython",
    "version": 3
   },
   "file_extension": ".py",
   "mimetype": "text/x-python",
   "name": "python",
   "nbconvert_exporter": "python",
   "pygments_lexer": "ipython3",
   "version": "3.4.5"
  }
 },
 "nbformat": 4,
 "nbformat_minor": 2
}
